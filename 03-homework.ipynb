{
 "cells": [
  {
   "cell_type": "code",
   "execution_count": null,
   "metadata": {},
   "outputs": [],
   "source": [
    "import numpy as np\n",
    "import matplotlib.pyplot as plt\n",
    "from math import factorial\n",
    "import io, requests, sys, urllib.request\n",
    "sys.setrecursionlimit(3000)"
   ]
  },
  {
   "cell_type": "markdown",
   "metadata": {},
   "source": [
    "In this homework, you will implement *two more compression algorithms*:\n",
    "\n",
    "1. a \"universal\" compression algorithm for binary pictures (which is essentially the one discussed in the tutorials), and\n",
    "2. the Lempel-Ziv algorithm discussed in the lecture (we will use it to compress the same Hamlet text as on the previous homework).\n",
    "\n",
    "The two problems can be solved independently from each other, so **feel free to start with the one that seems easiest!**"
   ]
  },
  {
   "cell_type": "markdown",
   "metadata": {},
   "source": [
    "# 1. \"Universal\" Compression of Bitstrings and Binary Pictures"
   ]
  },
  {
   "cell_type": "markdown",
   "metadata": {},
   "source": [
    "## Enumerating Bitstrings\n",
    "\n",
    "Before we start, let us agree how to order $B(N, k)$ -- the set of *all* bitstrings of length $N$ with $k$ ones and (hence) $N-k$ zeros.\n",
    "We will use the *lexicographic order* discussed in the exercise class, which is just the order in which the bitstrings would appear in a dictionary.\n",
    "For example, $B(4,2)$ is sorted as follows:\n",
    "```\n",
    "0011\n",
    "0101\n",
    "0110\n",
    "1001\n",
    "1010\n",
    "1100\n",
    "```\n",
    "The following function computes $B(N,k)$ in lexicographic order:"
   ]
  },
  {
   "cell_type": "code",
   "execution_count": null,
   "metadata": {},
   "outputs": [
    {
     "data": {
      "text/plain": [
       "[[0, 0, 1, 1],\n",
       " [0, 1, 0, 1],\n",
       " [0, 1, 1, 0],\n",
       " [1, 0, 0, 1],\n",
       " [1, 0, 1, 0],\n",
       " [1, 1, 0, 0]]"
      ]
     },
     "execution_count": null,
     "metadata": {},
     "output_type": "execute_result"
    }
   ],
   "source": [
    "def B(N, k):\n",
    "    if N == 0:\n",
    "        return [[]] if k == 0 else []\n",
    "\n",
    "    return [[0] + y for y in B(N - 1, k)] + [[1] + y for y in B(N - 1, k - 1)]\n",
    "\n",
    "\n",
    "B(4, 2)"
   ]
  },
  {
   "cell_type": "markdown",
   "metadata": {},
   "source": [
    "For simplicity, we represent bitstrings by Python lists, which is very inefficient. In a real implementation you would use a more compact representation.\n",
    "\n",
    "The size of the list $B(n,k)$ is given by the binomial coefficient $\\binom N k$:"
   ]
  },
  {
   "cell_type": "code",
   "execution_count": null,
   "metadata": {},
   "outputs": [
    {
     "data": {
      "text/plain": [
       "6"
      ]
     },
     "execution_count": null,
     "metadata": {},
     "output_type": "execute_result"
    }
   ],
   "source": [
    "def binomial(N, k):\n",
    "    if 0 <= k <= N:\n",
    "        return factorial(N) // factorial(k) // factorial(N - k)\n",
    "    return 0\n",
    "\n",
    "\n",
    "binomial(4, 2)"
   ]
  },
  {
   "cell_type": "markdown",
   "metadata": {},
   "source": [
    "Here comes your first task.\n",
    "Consider the following two functions.\n",
    "The first function, `bitstring_to_index`, determines the index of a given bitstring of length $N$ with $k$ ones in the list $B(N,k)$.\n",
    "The second function, `index_to_bitstring`, looks up the bitstring for a given index.\n",
    "While correct, these functions are completely impractical since they both create the entire list $B(N,k)$ even though we are only interested in a single element.\n",
    "For example, $B(64, 8)$ contains $\\approx 2^{32}$ elements, which requires multiple GB!\n",
    "\n",
    "**Your task is to do better and re-implement the two functions `bitstring_to_index` and `index_to_bitstring` in an efficient way (in the tutorials you discussed how this can be done)!**"
   ]
  },
  {
   "cell_type": "code",
   "execution_count": null,
   "metadata": {},
   "outputs": [],
   "source": [
    "def index_to_bitstring(N, k, index):\n",
    "    # TODO: CAN YOU MAKE THIS FASTER?\n",
    "    return B(N, k)[index]\n",
    "\n",
    "\n",
    "def bitstring_to_index(x):\n",
    "    # TODO: CAN YOU MAKE THIS FASTER?\n",
    "    N = len(x)\n",
    "    k = list(x).count(1)\n",
    "    return B(N, k).index(x)\n",
    "\n",
    "\n",
    "# a simple test\n",
    "assert bitstring_to_index([1, 0, 1, 0]) == 4\n",
    "assert index_to_bitstring(4, 2, 4) == [1, 0, 1, 0]"
   ]
  },
  {
   "cell_type": "markdown",
   "metadata": {},
   "source": [
    "Here is a more elaborate test to make sure that your implementation works fine:"
   ]
  },
  {
   "cell_type": "code",
   "execution_count": null,
   "metadata": {},
   "outputs": [],
   "source": [
    "for N in range(11):\n",
    "    for k in range(N + 1):\n",
    "        for index, x in enumerate(B(N, k)):\n",
    "            assert bitstring_to_index(x) == index\n",
    "            assert index_to_bitstring(N, k, index) == x"
   ]
  },
  {
   "cell_type": "markdown",
   "metadata": {},
   "source": [
    "The following test will fail unless you re-implemented the two functions more efficiently:"
   ]
  },
  {
   "cell_type": "code",
   "execution_count": null,
   "metadata": {},
   "outputs": [],
   "source": [
    "assert bitstring_to_index(index_to_bitstring(64, 8, 986860893)) == 986860893"
   ]
  },
  {
   "cell_type": "markdown",
   "metadata": {},
   "source": [
    "## Compressing and Decompressing Images\n",
    "\n",
    "We will now implement the \"universal\" compression algorithm discussed in the tutorials to compress images.\n",
    "Consider a binary image of height $h$ and width $w$.\n",
    "Any such image can be converted into a bitstring by listing the pixel values (0=black pixel, 1=white pixel) row by row, starting with the top row.\n",
    "Let $N$ denote the length of the bitstring, $k$ the number of ones, and $p$ its index in the lexicographically ordered list $B(N,k)$.\n",
    "Then the quadruple $(h,w,k,p)$ defines the **compression** of the bitstring.\n",
    "\n",
    "For example, consider the following $2\\times2$ image:\n",
    "\n",
    "![](https://github.com/qi-rub/iit21-homework/raw/main/material/two_by_two.png)\n",
    "\n",
    "It corresponds the bitstring `0010`, so $N=4$ and $k=1$.\n",
    "There are four strings in $B(4, 1)$.\n",
    "In lexicographic order, they are: `0001`, `0010`, `0100`, `1000`.\n",
    "The index of our bitstring in this list is $p=1$ (remember that indices start at 0).\n",
    "Thus, the compression of this image is $(2,2,1,1)$.\n",
    "\n",
    "**Your task is to program both the compressor and the decompressor.\n",
    "For this, please complete the following two functions.\n",
    "As usual, images are represented by two-dimensional NumPy arrays.\n",
    "Don't worry about converting $(w,h,k,p)$ to bitstrings -- you can keep them as integers.**"
   ]
  },
  {
   "cell_type": "code",
   "execution_count": null,
   "metadata": {},
   "outputs": [],
   "source": [
    "def compress(image):\n",
    "    # TODO: FINISH THIS FUNCTION\n",
    "    h, w = image.shape\n",
    "    x = list(image.reshape(h * w))\n",
    "    k = ...\n",
    "    p = ...\n",
    "    return h, w, k, p\n",
    "\n",
    "\n",
    "def decompress(h, w, k, p):\n",
    "    # TODO: FINISH THIS FUNCTION\n",
    "    x = ...\n",
    "    return np.array(x).reshape(h, w)\n",
    "\n",
    "\n",
    "# make sure the code works for the 2x2 example described above\n",
    "TEST_IMAGE = np.array([[0, 0], [1, 0]])\n",
    "assert compress(TEST_IMAGE) == (2, 2, 1, 1)\n",
    "assert np.all(decompress(2, 2, 1, 1) == TEST_IMAGE)"
   ]
  },
  {
   "cell_type": "markdown",
   "metadata": {},
   "source": [
    "Here is a more interesting test.\n",
    "Does your code decompress the following image correctly? (You will recognize when it does.)"
   ]
  },
  {
   "cell_type": "code",
   "execution_count": null,
   "metadata": {},
   "outputs": [],
   "source": [
    "# decompress an 8x8 image\n",
    "image = decompress(8, 8, 8, 986860893)\n",
    "\n",
    "# show it\n",
    "plt.imshow(image, cmap=plt.get_cmap(\"binary\"), interpolation=\"none\")\n",
    "plt.show()"
   ]
  },
  {
   "cell_type": "markdown",
   "metadata": {},
   "source": [
    "Finally, you may evaluate your compressor on the donkey image from the first homework. The following code downloads the image and downscales it to 34x40 pixels (to avoid any potential performance problems):"
   ]
  },
  {
   "cell_type": "code",
   "execution_count": null,
   "metadata": {},
   "outputs": [
    {
     "data": {
      "image/png": "[encoded data removed]",
      "text/plain": [
       "<Figure size 640x480 with 1 Axes>"
      ]
     },
     "metadata": {
      "image/png": {
       "height": 413,
       "width": 482
      }
     },
     "output_type": "display_data"
    }
   ],
   "source": [
    "URL = \"https://github.com/qi-rub/it-ss23-homework/raw/main/material/donkey.png\"\n",
    "ORIGINAL = plt.imread(io.BytesIO(urllib.request.urlopen(URL).read()))\n",
    "\n",
    "# remove alpha channel\n",
    "if ORIGINAL.shape[2] == 4:\n",
    "    alpha = ORIGINAL[:, :, 3:]\n",
    "    ORIGINAL = ORIGINAL[:, :, :3] * alpha + (1 - alpha)\n",
    "\n",
    "# convert to black & white\n",
    "WHITE_THRESHOLD = 0.8\n",
    "ORIGINAL = np.where(ORIGINAL[:, :, :3].max(axis=2) > WHITE_THRESHOLD, 0, 1)\n",
    "\n",
    "# downscale by a factor 20\n",
    "ORIGINAL = ORIGINAL[::20, ::20]\n",
    "\n",
    "# show the figure\n",
    "plt.imshow(ORIGINAL, cmap=plt.get_cmap(\"binary\"), interpolation=\"none\")\n",
    "plt.show()"
   ]
  },
  {
   "cell_type": "markdown",
   "metadata": {},
   "source": [
    "**Run the following code that first compresses and then decompresses the image -- does it pass the test?**"
   ]
  },
  {
   "cell_type": "code",
   "execution_count": null,
   "metadata": {},
   "outputs": [],
   "source": [
    "h, w, k, p = compress(ORIGINAL)\n",
    "assert np.all(ORIGINAL == decompress(h, w, k, p))"
   ]
  },
  {
   "cell_type": "markdown",
   "metadata": {},
   "source": [
    "What compression rate does your code achieve on the donkey image?\n",
    "(For simplicity, we will ignore the number of bits required to represent $h$ and $w$.\n",
    "The original, uncompressed image contains $N = h \\times w$ many bits, while, after compressing, we need about $\\log(N) +\\log\\#B(N,k)$ bits to represent $k$ and $p$ in binary.\n",
    "\n",
    "**Run the following code to determine the compression rate that you achieved for the donkey image:**"
   ]
  },
  {
   "cell_type": "code",
   "execution_count": null,
   "metadata": {},
   "outputs": [],
   "source": [
    "N = h * w\n",
    "R = (np.log2(N) + np.log2(float(binomial(N, k)))) / N\n",
    "print(f\"Compression rate: {R:2.0%}\")"
   ]
  },
  {
   "cell_type": "markdown",
   "metadata": {},
   "source": [
    "If you are interested, you could compare this number with the compression rate that PNG or GIF achieve for the same picture..."
   ]
  },
  {
   "cell_type": "markdown",
   "metadata": {},
   "source": [
    "# 2. Lempel-Ziv Compression\n",
    "\n",
    "Next, you will implement the Lempel-Ziv compression algorithm discussed in class.\n",
    "\n",
    "Just like on the last homework, we are going to compress Shakespear's Hamlet, so let us download it again."
   ]
  },
  {
   "cell_type": "code",
   "execution_count": null,
   "metadata": {},
   "outputs": [
    {
     "data": {
      "text/plain": [
       "179096"
      ]
     },
     "execution_count": null,
     "metadata": {},
     "output_type": "execute_result"
    }
   ],
   "source": [
    "hamlet = requests.get(\n",
    "    \"https://github.com/qi-rub/it-ss23-homework/raw/main/material/hamlet.txt\"\n",
    ").content.decode(\"ascii\", errors=\"ignore\")\n",
    "hamlet = hamlet\n",
    "len(hamlet)"
   ]
  },
  {
   "cell_type": "markdown",
   "metadata": {},
   "source": [
    "**Write a function that takes as input a string and as output returns the LZ compression as a list of pairs `(k,x)`. You can assume that the last symbol of the input is the symbol `EOF` defined below (in class we used $\\perp$).**"
   ]
  },
  {
   "cell_type": "code",
   "execution_count": null,
   "metadata": {},
   "outputs": [],
   "source": [
    "EOF = \"\\0\"\n",
    "\n",
    "\n",
    "def lz_compress(s):\n",
    "    assert s.find(EOF) == len(s) - 1, \"String should contain EOF precisely at the end\"\n",
    "    # TODO: can you implement this?\n",
    "    return ..."
   ]
  },
  {
   "cell_type": "markdown",
   "metadata": {},
   "source": [
    "The following code tests your function with the example discussed in class:"
   ]
  },
  {
   "cell_type": "code",
   "execution_count": null,
   "metadata": {},
   "outputs": [],
   "source": [
    "compressed = lz_compress(\"ABBABAABAABABA\" + EOF)\n",
    "assert compressed == [\n",
    "    (0, \"A\"),\n",
    "    (0, \"B\"),\n",
    "    (2, \"A\"),\n",
    "    (3, \"A\"),\n",
    "    (4, \"B\"),\n",
    "    (1, \"B\"),\n",
    "    (1, EOF),\n",
    "]"
   ]
  },
  {
   "cell_type": "markdown",
   "metadata": {},
   "source": [
    "Just like on the previous homework, we provide a decompressor for your convenience:"
   ]
  },
  {
   "cell_type": "code",
   "execution_count": null,
   "metadata": {},
   "outputs": [],
   "source": [
    "def lz_decompress(compressed):\n",
    "    phrases = [\"\"]\n",
    "    result = \"\"\n",
    "    for k, x in compressed:\n",
    "        phrase = phrases[k] + x\n",
    "        phrases.append(phrase)\n",
    "        result += phrase\n",
    "    return result"
   ]
  },
  {
   "cell_type": "markdown",
   "metadata": {},
   "source": [
    "Let's now compress Hamlet and estimate the compression rate:"
   ]
  },
  {
   "cell_type": "code",
   "execution_count": null,
   "metadata": {},
   "outputs": [],
   "source": [
    "compressed = lz_compress(hamlet + EOF)\n",
    "assert lz_decompress(compressed) == hamlet + EOF\n",
    "\n",
    "compressed_bytes = np.ceil(\n",
    "    sum(np.ceil(np.log2(j)) + 8 for j in range(1, len(compressed) + 1)) / 8\n",
    ")\n",
    "R = compressed_bytes / len(hamlet + EOF)\n",
    "print(f\"Compression rate: {R:2.0%}\")"
   ]
  },
  {
   "cell_type": "markdown",
   "metadata": {},
   "source": [
    "**Bonus challenges for the LZ problem (completely optional):**\n",
    "\n",
    "0. Compare your results with `zlib`, a compression library that is shipped with Python (`import zlib; zlib.compress(...)`).\n",
    "1. Modify your compressor so that it emits a bitstring, not just a list of pairs $(k,x)$. We discussed in class how this can be done.\n",
    "2. Can you combine the LZ algorithm with Huffman compression to get an improved compression rate? Should you apply Huffman before or after the LZ step? It may be useful to use multiple Huffman codebooks for different kinds of data. Try to get below 50%!\n",
    "3. Can you tweak your implementation so that it efficient enough for the `enwik8` data set mentioned on the last homework?"
   ]
  }
 ],
 "metadata": {
  "kernelspec": {
   "display_name": "python3",
   "language": "python",
   "name": "python3"
  }
 },
 "nbformat": 4,
 "nbformat_minor": 1
}
