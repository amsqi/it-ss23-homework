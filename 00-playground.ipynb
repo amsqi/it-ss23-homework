{
 "cells": [
  {
   "cell_type": "code",
   "execution_count": null,
   "id": "976db6d5",
   "metadata": {},
   "outputs": [],
   "source": [
    "import numpy as np\n",
    "import matplotlib.pyplot as plt"
   ]
  },
  {
   "cell_type": "markdown",
   "id": "6526135b",
   "metadata": {},
   "source": [
    "Use this notebook to experiment..."
   ]
  },
  {
   "cell_type": "code",
   "execution_count": null,
   "id": "9b2aebd8",
   "metadata": {},
   "outputs": [],
   "source": []
  }
 ],
 "metadata": {
  "kernelspec": {
   "display_name": "python3",
   "language": "python",
   "name": "python3"
  }
 },
 "nbformat": 4,
 "nbformat_minor": 5
}
